{
 "cells": [
  {
   "cell_type": "code",
   "execution_count": 107,
   "id": "294b29dc",
   "metadata": {},
   "outputs": [],
   "source": [
    "import copy\n",
    "import numpy as np\n",
    "from queue import PriorityQueue\n",
    "from sklearn.cluster import KMeans, SpectralClustering, AgglomerativeClustering, Birch\n",
    "from sklearn.mixture import GaussianMixture\n",
    "from sklearn.metrics import f1_score\n",
    "from sklearn.decomposition import PCA\n",
    "from multiprocessing import Pool\n",
    "import multiprocess_f1_score as mfs\n",
    "import time"
   ]
  },
  {
   "cell_type": "markdown",
   "id": "24537288",
   "metadata": {},
   "source": [
    "### 공통 함수"
   ]
  },
  {
   "cell_type": "code",
   "execution_count": 2,
   "id": "3aba484f",
   "metadata": {},
   "outputs": [],
   "source": [
    "# 깊이 우선 탐색\n",
    "def dfs(v, X):\n",
    "    stack = [v]\n",
    "    visited = np.zeros((len(X)), dtype=bool)\n",
    "    while stack:\n",
    "        v = stack.pop()\n",
    "        visited[v] = True\n",
    "        for neig in np.where(X[v])[0]:\n",
    "            if visited[neig] == False:\n",
    "                stack.append(neig)\n",
    "    return visited\n",
    "\n",
    "\n",
    "# 그래프 분할 함수\n",
    "def split_graph(X):\n",
    "    cluster = list()\n",
    "    visited = np.zeros((len(X)), dtype=bool)\n",
    "    for i in range(len(X)):\n",
    "        if visited[i] == False:\n",
    "            v = dfs(i, X)\n",
    "            visited[v] = True\n",
    "            cluster.append(v)\n",
    "    return np.array(cluster)\n",
    "\n",
    "\n",
    "# 분할된 그래프로 클러스터 생성 함수\n",
    "def split_grpah_to_cluster(split):\n",
    "    cluster = np.zeros((split.shape[1]), dtype=np.int32)\n",
    "    for i, s in enumerate(split):\n",
    "        cluster[s] = i\n",
    "    return cluster, i\n",
    "\n",
    "\n",
    "# 거리 벡터 함수\n",
    "def distance_vector(X, v):\n",
    "    distance = np.full(len(X[v]),np.inf)\n",
    "    distance[v] = 0\n",
    "    que = PriorityQueue()\n",
    "    que.put((0, v))\n",
    "    while que.empty() == False:\n",
    "        i = que.get()\n",
    "        d = np.where(X[i[1]], i[0]+1, np.inf)\n",
    "        d = np.stack((distance, d), axis=-1)\n",
    "        distance = np.min(d, axis=-1)\n",
    "        for j in np.where(np.argmin(d, axis=-1))[0]:\n",
    "            que.put((distance[j], j))\n",
    "    return distance\n",
    "\n",
    "\n",
    "def graph_distance_matrix(X):\n",
    "    distance_matrix = np.where(X == 1, 1, np.inf)\n",
    "    cond = np.arange(len(X))\n",
    "    distance_matrix[cond, cond] = 0\n",
    "    \n",
    "    que = PriorityQueue()\n",
    "    for i in range(len(X)):\n",
    "        que.put((1, i))\n",
    "    \n",
    "    while que.empty() == False:\n",
    "        i = que.get()\n",
    "        print(f'\\r{i[0]} {i[1]}', end='')\n",
    "        tmp_matrix = distance_matrix[i[1]] + distance_matrix\n",
    "        tmp_matrix = np.min(tmp_matrix, axis=-1)\n",
    "        tmp_matrix = np.stack((distance_matrix[i[1]], tmp_matrix), axis=-1)\n",
    "        min_distance = np.min(tmp_matrix, axis=-1)\n",
    "        distance_matrix[i[1]] = min_distance\n",
    "        distance_matrix[:, i[1]] = min_distance\n",
    "        for j in np.where(np.argmin(tmp_matrix, axis=-1))[0]:\n",
    "            que.put((distance_matrix[i[1], j], j))\n",
    "    return distance_matrix\n",
    "\n",
    "\n",
    "def generate_cluster_matrix(y):\n",
    "    cluster_matrix = list()\n",
    "    for i in np.unique(y):\n",
    "        if i == -1:\n",
    "            break\n",
    "        cluster_matrix.append(np.where(y == i, 1, 0))\n",
    "    return np.array(cluster_matrix)\n",
    "\n",
    "\n",
    "def super_cluster_matrix(sub_cluster_matrix, sub):\n",
    "    cluster_matrix = np.zeros((len(sub_cluster_matrix), len(sub)), dtype=np.int32)\n",
    "    cluster_matrix[:, sub] = sub_cluster_matrix\n",
    "    return cluster_matrix\n",
    "\n",
    "\n",
    "def sorting_vector(vector, label):\n",
    "    sort = np.argsort(label)\n",
    "    return vector[sort], label[sort]\n",
    "\n",
    "\n",
    "def sorting_matrix(matrix, label):\n",
    "    sort = np.argsort(label)\n",
    "    return matrix[sort][:, sort], label[sort]\n",
    "\n",
    "\n",
    "def sorting_cluster_matrix(cluster_matrix, label):\n",
    "    sort = np.argsort(label)\n",
    "    return cluster_matrix[:, sort], label[sort]\n",
    "\n",
    "\n",
    "def extend_vector(X, label, target_label):\n",
    "    tmp_label = np.array(list(set(target_label) - set(label)))\n",
    "    con_label = np.concatenate((label, tmp_label))\n",
    "    tmp = np.zeros(len(tmp_label), dtype=np.int32)\n",
    "    con = np.concatenate((X, tmp))\n",
    "    return con, con_label\n",
    "\n",
    "\n",
    "def extend_matrix(X, label, target_label):\n",
    "    tmp_label = np.array(list(set(target_label) - set(label)))\n",
    "    con_label = np.concatenate((label, tmp_label))\n",
    "    tmp = np.zeros((len(tmp_label), len(label)), dtype=np.int32)\n",
    "    con = np.concatenate((X, tmp))\n",
    "    tmp = np.zeros((len(con_label), len(tmp_label)), dtype=np.int32)\n",
    "    con = np.concatenate((con, tmp), axis=-1)\n",
    "    return con, con_label\n",
    "\n",
    "\n",
    "def extend_cluster_matrix(X, label, target_label):\n",
    "    tmp_label = np.array(list(set(target_label) - set(label)))\n",
    "    con_label = np.concatenate((label, tmp_label))\n",
    "    tmp = np.zeros((len(X), len(tmp_label)), dtype=np.int32)\n",
    "    con = np.concatenate((X, tmp), axis=-1)\n",
    "    return con, con_label"
   ]
  },
  {
   "cell_type": "markdown",
   "id": "bc949d18",
   "metadata": {},
   "source": [
    "### 파일 읽기"
   ]
  },
  {
   "cell_type": "code",
   "execution_count": 3,
   "id": "cf2e72a9",
   "metadata": {},
   "outputs": [],
   "source": [
    "# 파일 읽기 함수\n",
    "# 파일에서 그래프 데이터를 가져오는 함수\n",
    "# Parameter\n",
    "#  * filename: 읽어올 파일\n",
    "# Return: data dictionary 데이터\n",
    "def get_input_data(filename):\n",
    "    input_file = open(filename, 'r')\n",
    "    data = dict()\n",
    "    for line in input_file:\n",
    "        splitted = line.split()\n",
    "\n",
    "        if splitted[0] in data:\n",
    "            data[splitted[0]].add(splitted[1])\n",
    "        else:\n",
    "            data[splitted[0]] = set([splitted[1]])\n",
    "\n",
    "        if splitted[1] in data:\n",
    "            data[splitted[1]].add(splitted[0])\n",
    "        else:\n",
    "            data[splitted[1]] = set([splitted[0]])\n",
    "\n",
    "    return data\n",
    "\n",
    "\n",
    "data_dict = get_input_data('project_input.txt')"
   ]
  },
  {
   "cell_type": "code",
   "execution_count": 4,
   "id": "d3aa3adf",
   "metadata": {
    "scrolled": true
   },
   "outputs": [],
   "source": [
    "def get_ground_truth_data(filename):\n",
    "    input_file = open(filename, 'r')\n",
    "    \n",
    "    cluster = list()\n",
    "    label = set()\n",
    "    for idx, line in enumerate(input_file):\n",
    "        splitted = line.split()\n",
    "        label.update(splitted)\n",
    "        cluster.append(splitted)\n",
    "    label = np.sort(np.array(list(label)))\n",
    "    cluster_matrix = list()\n",
    "    for c in cluster:\n",
    "        ext_vector, ext_label = extend_vector(np.ones(len(c), dtype=np.int32), c, label)\n",
    "        sort, _ = sorting_vector(ext_vector, ext_label)\n",
    "        cluster_matrix.append(sort)\n",
    "    return np.array(cluster_matrix), label\n",
    "        \n",
    "hierachical_cluster_matrix, hierachical_label = get_ground_truth_data('assignment6_output.txt')\n",
    "true_cluster_matrix, true_label = get_ground_truth_data('project_target.txt')"
   ]
  },
  {
   "cell_type": "markdown",
   "id": "665fdc5e",
   "metadata": {},
   "source": [
    "### Matrix 생성"
   ]
  },
  {
   "cell_type": "code",
   "execution_count": 5,
   "id": "7de55aea",
   "metadata": {},
   "outputs": [],
   "source": [
    "# 인접행렬 생성 함수\n",
    "# 그래프 딕셔너리로 인접행렬을 생성하는 함수\n",
    "# Parameter\n",
    "#  * graph: 그래프 딕셔너리\n",
    "# Return: 인접행렬\n",
    "def generate_graph_matrix(graph):\n",
    "    matrix = np.zeros((len(data_dict), len(data_dict)), dtype=np.int32)\n",
    "    label = np.array(list(graph.keys()))\n",
    "    index = dict(zip(label, list(range(len(graph)))))\n",
    "    for node1 in graph:\n",
    "        for node2 in graph[node1]:\n",
    "            matrix[index[node1], index[node2]] = 1\n",
    "    return matrix, label\n",
    "    \n",
    "    \n",
    "matrix, label = generate_graph_matrix(data_dict)"
   ]
  },
  {
   "cell_type": "code",
   "execution_count": 6,
   "id": "9d90cd75",
   "metadata": {
    "scrolled": true
   },
   "outputs": [
    {
     "name": "stdout",
     "output_type": "stream",
     "text": [
      "(3343, 3343)\n",
      "(78, 3343)\n",
      "(734, 3343)\n"
     ]
    }
   ],
   "source": [
    "matrix, label = extend_matrix(matrix, label, true_label)\n",
    "matrix, label = sorting_matrix(matrix, label)\n",
    "hierachical_cluster_matrix, hierachical_label = extend_cluster_matrix(hierachical_cluster_matrix, hierachical_label, label)\n",
    "hierachical_cluster_matrix, hierachical_label = sorting_cluster_matrix(hierachical_cluster_matrix, hierachical_label)\n",
    "true_cluster_matrix, true_label = extend_cluster_matrix(true_cluster_matrix, true_label, label)\n",
    "true_cluster_matrix, true_label = sorting_cluster_matrix(true_cluster_matrix, true_label)\n",
    "\n",
    "print(matrix.shape)\n",
    "print(hierachical_cluster_matrix.shape)\n",
    "print(true_cluster_matrix.shape)"
   ]
  },
  {
   "cell_type": "markdown",
   "id": "9589736f",
   "metadata": {},
   "source": [
    "### 확률 행렬"
   ]
  },
  {
   "cell_type": "code",
   "execution_count": 7,
   "id": "d5f7ef23",
   "metadata": {
    "scrolled": true
   },
   "outputs": [],
   "source": [
    "def generate_probability_matrix(cluster):\n",
    "    probability_matrix = np.zeros((cluster.shape[1], cluster.shape[1]))\n",
    "    for i in range(cluster.shape[1]):\n",
    "        cond = cluster[:, i] == 1\n",
    "        if True in cond:\n",
    "            probability_matrix[i] = np.mean(cluster[cond], axis=0)\n",
    "    return probability_matrix\n",
    "\n",
    "def cluster_from_probability_matrix(probability_matrix, threshold, min_cluster_size=2, max_cluster_size=20):\n",
    "    test = probability_matrix[:20, :20]\n",
    "    cluster = np.unique(np.where(probability_matrix > threshold, 1, 0), axis=0)\n",
    "    test_cluster = np.unique(np.where(test > threshold, 1, 0), axis=0)\n",
    "    cluster_size = np.sum(cluster, axis=-1)\n",
    "    test_cluster_size = np.sum(test_cluster, axis=-1)\n",
    "    cond = (cluster_size >= min_cluster_size) & (cluster_size <= max_cluster_size)\n",
    "    test_cond = (test_cluster_size >= min_cluster_size) & (test_cluster_size <= max_cluster_size)\n",
    "    return cluster[cond]\n",
    "\n",
    "#k_core_probability_matrix = generate_probability_matrix(pred_k_core_cluster_matrix)\n",
    "#variable_k_core_probability_matrix = generate_probability_matrix(pred_variable_k_core_cluster_matrix)"
   ]
  },
  {
   "cell_type": "markdown",
   "id": "b3046ba0",
   "metadata": {},
   "source": [
    "### F1 Score"
   ]
  },
  {
   "cell_type": "code",
   "execution_count": 47,
   "id": "62baad19",
   "metadata": {
    "scrolled": true
   },
   "outputs": [],
   "source": [
    "def incidient_matrix_f_score_matrix(y_true, y_pred):\n",
    "    f_score_matrix = np.zeros((len(y_pred), len(y_true)), dtype=np.float64)\n",
    "    args = list()\n",
    "    \n",
    "    for pidx, p in enumerate(y_pred):\n",
    "        for tidx, t in enumerate(y_true):\n",
    "            args.append([t, p])\n",
    "            \n",
    "    pool = Pool(8)\n",
    "    ret = pool.map(mfs.f1_score_multiprocess, args)\n",
    "    ret = iter(ret)\n",
    "    for pidx in range(len(y_pred)):\n",
    "        for tidx in range(len(y_true)):\n",
    "            f_score_matrix[pidx, tidx] = next(ret)\n",
    "    pool.close()\n",
    "    pool.join()\n",
    "    \n",
    "    return f_score_matrix\n",
    "\n",
    "def incidient_matrix_f_score(f_score_matrix):\n",
    "    f_score_max = np.max(f_score_matrix, axis=-1)\n",
    "    f_score = np.mean(f_score_max)\n",
    "    return f_score\n",
    "\n",
    "def incidient_matrix_f_score_reverse(f_score_matrix):\n",
    "    f_score_max = np.max(f_score_matrix, axis=0)\n",
    "    f_score = np.mean(f_score_max)\n",
    "    return f_score\n",
    "\n",
    "def f_measure(cluster, string, start_time):\n",
    "    f_score_matrix = incidient_matrix_f_score_matrix(true_cluster_matrix, cluster)\n",
    "    f_score = incidient_matrix_f_score(f_score_matrix)\n",
    "    f_score_reverse = incidient_matrix_f_score_reverse(f_score_matrix)\n",
    "    print(f'{string:>8}: {time.time() - start_time:>6.2f}s {len(cluster):>4d} {f_score * 100:>5.2f}% {f_score_reverse * 100:>5.2f}%')\n",
    "\n",
    "def measure_probability_matrix(cluster_matrix, min_cluster_size=2, max_cluster_size=100):\n",
    "    start_time = time.time()\n",
    "    probability_matrix = generate_probability_matrix(cluster_matrix)\n",
    "    print(f'Probability Matrix Time: {time.time() - start_time:.2f}s')\n",
    "    print()\n",
    "\n",
    "    f_measure(cluster_matrix, 'original', time.time())\n",
    "    for threshold in [0.1, 0.2, 0.3, 0.4, 0.5, 0.6, 0.7, 0.8, 0.9, 0.95, 0.99]:\n",
    "        start_time = time.time()\n",
    "        cluster = cluster_from_probability_matrix(probability_matrix, threshold, min_cluster_size=min_cluster_size, max_cluster_size=max_cluster_size)\n",
    "        if len(cluster) > 0:\n",
    "            f_measure(cluster, str(threshold), start_time)"
   ]
  },
  {
   "cell_type": "markdown",
   "id": "15ed1206",
   "metadata": {},
   "source": [
    "### 좌표 기반의 군집화"
   ]
  },
  {
   "cell_type": "code",
   "execution_count": 126,
   "id": "37e8bdf1",
   "metadata": {
    "scrolled": false
   },
   "outputs": [
    {
     "name": "stdout",
     "output_type": "stream",
     "text": [
      "PCA: 9.57s\n",
      "Spectral: 38.19s\n",
      "Total: 48.14s\n",
      "Cluster: 63\n"
     ]
    }
   ],
   "source": [
    "def graph_to_coordinate(X, core, core_multiple):\n",
    "    X_degree = np.sum(X, axis=-1)\n",
    "    candidate_index = np.argsort(X_degree)[:core * core_multiple]\n",
    "    \n",
    "    candidate_distance_vector = []\n",
    "    for i in candidate_index:\n",
    "        candidate_distance_vector.append(distance_vector(X, i))\n",
    "    candidate_distance_vector = np.array(candidate_distance_vector)\n",
    "    \n",
    "    candidate_distance_matrix = candidate_distance_vector[:, candidate_index]\n",
    "    \n",
    "    origin = np.zeros_like(candidate_index, dtype=bool)\n",
    "    origin[np.argmax(np.sum(candidate_distance_matrix, axis=-1))] = True\n",
    "    for i in range(core - 1):\n",
    "        origin_distance_vector = candidate_distance_matrix[origin]\n",
    "        mask_distance_vector = np.where(origin, -np.inf, 0).reshape(1, -1)\n",
    "        vector = np.concatenate((origin_distance_vector, mask_distance_vector), axis=0)\n",
    "        origin[np.argmax(np.sum(vector, axis=0))] = True   \n",
    "    return candidate_distance_vector[origin].T\n",
    "\n",
    "\n",
    "def graph_to_coordinate_PCA(X):\n",
    "    X_degree = np.sum(X, axis=-1)\n",
    "    candidate_index = np.argsort(X_degree)[:len(X) // 40]\n",
    "    \n",
    "    candidate_distance_vector = []\n",
    "    for i in candidate_index:\n",
    "        candidate_distance_vector.append(distance_vector(X, i))\n",
    "    candidate_distance_vector = np.array(candidate_distance_vector)\n",
    "    \n",
    "    pca = PCA(n_components=0.9)\n",
    "    pca_distance_matrix = pca.fit_transform(candidate_distance_vector.T)\n",
    "    \n",
    "    return pca_distance_matrix\n",
    "\n",
    "\n",
    "def k_means_cluster_matrix(X, clusters):\n",
    "    cluster_matrix = list()\n",
    "    for i in clusters:\n",
    "        cluster = KMeans(n_clusters=i).fit(X).labels_\n",
    "        cluster_matrix.extend(generate_cluster_matrix(cluster))\n",
    "    return cluster_matrix\n",
    "\n",
    "\n",
    "def hierarchical_cluster_matrix(X, clusters):\n",
    "    cluster_matrix = list()\n",
    "    for i in clusters:\n",
    "        cluster = AgglomerativeClustering(n_clusters=i).fit(X).labels_\n",
    "        cluster_matrix.extend(generate_cluster_matrix(cluster))\n",
    "    return cluster_matrix\n",
    "\n",
    "\n",
    "def birch_cluster_matrix(X, clusters):\n",
    "    cluster_matrix = list()\n",
    "    cluster = Birch(n_clusters=None).fit_predict(X)\n",
    "    cluster_matrix.extend(generate_cluster_matrix(cluster))\n",
    "    for i in clusters:\n",
    "        cluster = Birch(n_clusters=i).fit_predict(X)\n",
    "        cluster_matrix.extend(generate_cluster_matrix(cluster))\n",
    "    return cluster_matrix\n",
    "\n",
    "\n",
    "def spectral_cluster_matrix(X, clusters):\n",
    "    cluster_matrix = list()\n",
    "    for i in clusters:\n",
    "        cluster = SpectralClustering(n_clusters=i).fit_predict(X)\n",
    "        cluster_matrix.extend(generate_cluster_matrix(cluster))\n",
    "    return cluster_matrix\n",
    "\n",
    "\n",
    "def coordinate_based_graph_clustering(X, clusters=range(2, 10)):\n",
    "    cluster_matrix = list()\n",
    "    for sub in split_graph(X):\n",
    "        if np.sum(sub) < 20:\n",
    "            continue\n",
    "            \n",
    "        start_time = time.time()\n",
    "        coordinate = graph_to_coordinate_PCA(X[sub][:, sub])\n",
    "        print(f'PCA: {time.time() - start_time:.2f}s')\n",
    "\n",
    "        #start_time = time.time()\n",
    "        #sub_cluster_matrix = k_means_cluster_matrix(coordinate, clusters)\n",
    "        #sub_cluster_matrix = super_cluster_matrix(sub_cluster_matrix, sub)\n",
    "        #cluster_matrix.extend(sub_cluster_matrix)\n",
    "        #print(f'KMeans: {time.time() - start_time:.2f}s')\n",
    "\n",
    "        #start_time = time.time()\n",
    "        #sub_cluster_matrix = hierarchical_cluster_matrix(coordinate, clusters)\n",
    "        #sub_cluster_matrix = super_cluster_matrix(sub_cluster_matrix, sub)\n",
    "        #cluster_matrix.extend(sub_cluster_matrix)\n",
    "        #print(f'Hierarchical: {time.time() - start_time:.2f}s')\n",
    "\n",
    "        #start_time = time.time()\n",
    "        #sub_cluster_matrix = birch_cluster_matrix(coordinate, clusters)\n",
    "        #sub_cluster_matrix = super_cluster_matrix(sub_cluster_matrix, sub)\n",
    "        #cluster_matrix.extend(sub_cluster_matrix)\n",
    "        #print(f'Birch: {time.time() - start_time:.2f}s')\n",
    "        \n",
    "        start_time = time.time()\n",
    "        sub_cluster_matrix = spectral_cluster_matrix(coordinate[:, :3], clusters)\n",
    "        sub_cluster_matrix = super_cluster_matrix(sub_cluster_matrix, sub)\n",
    "        cluster_matrix.extend(sub_cluster_matrix)\n",
    "        print(f'Spectral: {time.time() - start_time:.2f}s')\n",
    "    cluster_matrix = np.array(cluster_matrix)\n",
    "    cluster_matrix = np.unique(cluster_matrix, axis=0)\n",
    "    cluster_matrix = cluster_matrix[np.sum(cluster_matrix, axis=-1) > 1]\n",
    "    return cluster_matrix\n",
    "            \n",
    "start_time = time.time()\n",
    "pred_coord_cluster_matrix = coordinate_based_graph_clustering(matrix, clusters=range(2, 30, 2))\n",
    "print(f'Total: {time.time() - start_time:.2f}s')\n",
    "print(f'Cluster: {len(pred_coord_cluster_matrix)}')"
   ]
  },
  {
   "cell_type": "code",
   "execution_count": 127,
   "id": "7e105b98",
   "metadata": {
    "scrolled": true
   },
   "outputs": [
    {
     "name": "stdout",
     "output_type": "stream",
     "text": [
      "Probability Matrix Time: 0.17s\n",
      "\n",
      "original:   2.08s   63 21.66%  2.76%\n",
      "     0.1:   2.34s    1 50.00%  0.20%\n",
      "     0.2:   2.34s    1 50.00%  0.20%\n",
      "     0.3:   2.31s    1 50.00%  0.20%\n",
      "     0.4:   2.11s    1 50.00%  0.20%\n",
      "     0.5:   2.06s    2 71.43%  0.33%\n",
      "     0.6:   1.94s    2 71.43%  0.33%\n",
      "     0.7:   2.06s    4 45.81%  0.42%\n",
      "     0.8:   2.14s    9 41.66%  0.92%\n",
      "     0.9:   2.24s   14 38.95%  1.24%\n",
      "    0.95:   2.31s   16 35.47%  1.29%\n",
      "    0.99:   2.27s   16 35.47%  1.29%\n"
     ]
    }
   ],
   "source": [
    "measure_probability_matrix(pred_coord_cluster_matrix, min_cluster_size=3, max_cluster_size=10)"
   ]
  },
  {
   "cell_type": "code",
   "execution_count": 27,
   "id": "20aa7eb5",
   "metadata": {
    "scrolled": true
   },
   "outputs": [
    {
     "name": "stdout",
     "output_type": "stream",
     "text": [
      "Probability Matrix Time: 0.02s\n",
      "\n",
      "original:   3.43s   78 41.81%  5.77%\n",
      "     0.1:   3.64s   18 55.49%  2.27%\n",
      "     0.2:   3.27s   18 55.49%  2.27%\n",
      "     0.3:   3.44s   18 55.49%  2.27%\n",
      "     0.4:   3.53s   18 55.49%  2.27%\n",
      "     0.5:   3.34s   18 55.49%  2.27%\n",
      "     0.6:   3.24s   18 55.49%  2.27%\n",
      "     0.7:   3.46s   18 55.49%  2.27%\n",
      "     0.8:   3.31s   18 55.49%  2.27%\n",
      "     0.9:   3.29s   18 55.49%  2.27%\n",
      "    0.95:   3.32s   18 55.49%  2.27%\n",
      "    0.99:   3.29s   18 55.49%  2.27%\n"
     ]
    }
   ],
   "source": [
    "measure_probability_matrix(hierachical_cluster_matrix, min_cluster_size=3, max_cluster_size=10)"
   ]
  },
  {
   "cell_type": "markdown",
   "id": "1d48c43c",
   "metadata": {},
   "source": [
    "### Dense 기반의 군집화"
   ]
  },
  {
   "cell_type": "code",
   "execution_count": 19,
   "id": "102c10ed",
   "metadata": {},
   "outputs": [],
   "source": [
    "def k_core_graph_clustering(X, density, max_iter=100, copy_X=True):\n",
    "    if copy_X:\n",
    "        X = X.copy()\n",
    "    \n",
    "    for i in range(max_iter):\n",
    "        pre_X = X.copy()\n",
    "        X_density = np.sum(X, axis=-1)\n",
    "        cond = X_density < density\n",
    "        X[cond, :] = 0\n",
    "        X[:, cond] = 0\n",
    "        if np.all(pre_X == X):\n",
    "            break\n",
    "    \n",
    "    splitted = split_graph(X)\n",
    "    cond = np.sum(splitted, axis=-1) > 1\n",
    "    return splitted[cond].astype(np.int32)\n",
    "\n",
    "\n",
    "def variable_k_core_graph_clustering(X, max_density=100, max_iter=100, copy_X=True):\n",
    "    if copy_X:\n",
    "        X = X.copy()\n",
    "        \n",
    "    cluster = list()\n",
    "    for density in range(max_density):\n",
    "        c = k_core_graph_clustering(X, density, max_iter)\n",
    "        if len(c) == 0:\n",
    "            break\n",
    "        else:\n",
    "            cluster.extend(c)\n",
    "    \n",
    "    return np.unique(np.array(cluster), axis=0)\n",
    "\n",
    "\n",
    "pred_k_core_cluster_matrix = k_core_graph_clustering(matrix, 3)\n",
    "pred_variable_k_core_cluster_matrix = variable_k_core_graph_clustering(matrix)"
   ]
  },
  {
   "cell_type": "code",
   "execution_count": 28,
   "id": "e213289b",
   "metadata": {
    "scrolled": true
   },
   "outputs": [
    {
     "name": "stdout",
     "output_type": "stream",
     "text": [
      "Probability Matrix Time: 0.04s\n",
      "\n",
      "original:   0.81s    3 65.51%  0.72%\n",
      "     0.1:   2.66s    2 94.44%  0.35%\n",
      "     0.2:   2.76s    2 94.44%  0.35%\n",
      "     0.3:   2.77s    2 94.44%  0.35%\n",
      "     0.4:   2.64s    2 94.44%  0.35%\n",
      "     0.5:   2.64s    2 94.44%  0.35%\n",
      "     0.6:   2.67s    2 94.44%  0.35%\n",
      "     0.7:   2.56s    2 94.44%  0.35%\n",
      "     0.8:   2.67s    2 94.44%  0.35%\n",
      "     0.9:   2.77s    2 94.44%  0.35%\n",
      "    0.95:   2.67s    2 94.44%  0.35%\n",
      "    0.99:   2.77s    2 94.44%  0.35%\n"
     ]
    }
   ],
   "source": [
    "measure_probability_matrix(pred_k_core_cluster_matrix, min_cluster_size=3, max_cluster_size=10)"
   ]
  },
  {
   "cell_type": "code",
   "execution_count": 128,
   "id": "4d9602e3",
   "metadata": {},
   "outputs": [
    {
     "name": "stdout",
     "output_type": "stream",
     "text": [
      "Probability Matrix Time: 0.10s\n",
      "\n",
      "original:   3.00s   91 41.86%  7.03%\n",
      "     0.1:   2.84s   17 55.63%  2.11%\n",
      "     0.2:   2.63s   17 55.63%  2.11%\n",
      "     0.3:   2.61s   17 55.63%  2.11%\n",
      "     0.4:   2.56s   17 55.63%  2.11%\n",
      "     0.5:   2.50s   20 56.44%  2.16%\n",
      "     0.6:   2.49s   20 56.44%  2.16%\n",
      "     0.7:   2.57s   20 56.44%  2.16%\n",
      "     0.8:   2.48s   21 58.08%  2.40%\n",
      "     0.9:   2.50s   24 60.17%  2.76%\n",
      "    0.95:   2.50s   24 60.17%  2.76%\n",
      "    0.99:   2.50s   24 60.17%  2.76%\n"
     ]
    }
   ],
   "source": [
    "measure_probability_matrix(pred_variable_k_core_cluster_matrix, min_cluster_size=3, max_cluster_size=10)"
   ]
  },
  {
   "cell_type": "code",
   "execution_count": 129,
   "id": "a3e16eac",
   "metadata": {},
   "outputs": [],
   "source": [
    "mix_cluster_matrix = list()\n",
    "mix_cluster_matrix.extend(pred_coord_cluster_matrix)\n",
    "mix_cluster_matrix.extend(hierachical_cluster_matrix)\n",
    "mix_cluster_matrix.extend(pred_variable_k_core_cluster_matrix)\n",
    "mix_cluster_matrix = np.array(mix_cluster_matrix)"
   ]
  },
  {
   "cell_type": "code",
   "execution_count": 130,
   "id": "2a9f8513",
   "metadata": {},
   "outputs": [
    {
     "name": "stdout",
     "output_type": "stream",
     "text": [
      "Probability Matrix Time: 0.19s\n",
      "\n",
      "original:   8.02s  232 36.36%  9.45%\n",
      "     0.1:   2.47s   17 55.63%  2.11%\n",
      "     0.2:   2.43s   17 55.63%  2.11%\n",
      "     0.3:   2.40s   17 55.63%  2.11%\n",
      "     0.4:   2.23s   20 53.78%  2.34%\n",
      "     0.5:   2.17s   23 54.47%  2.42%\n",
      "     0.6:   2.14s   23 54.47%  2.42%\n",
      "     0.7:   2.35s   29 54.15%  2.86%\n",
      "     0.8:   2.65s   39 49.82%  3.33%\n",
      "     0.9:   3.09s   54 50.45%  4.66%\n",
      "    0.95:   3.38s   65 47.90%  5.47%\n",
      "    0.99:   3.48s   66 48.03%  5.63%\n"
     ]
    }
   ],
   "source": [
    "measure_probability_matrix(mix_cluster_matrix, min_cluster_size=3, max_cluster_size=10)"
   ]
  },
  {
   "cell_type": "markdown",
   "id": "942ad2a1",
   "metadata": {},
   "source": [
    "### Test"
   ]
  },
  {
   "cell_type": "code",
   "execution_count": 21,
   "id": "56e44b3c",
   "metadata": {
    "scrolled": true
   },
   "outputs": [
    {
     "data": {
      "text/plain": [
       "(array([[False,  True,  True, False, False, False, False],\n",
       "        [ True, False,  True,  True, False, False, False],\n",
       "        [ True,  True, False, False, False, False, False],\n",
       "        [False,  True, False, False, False, False, False],\n",
       "        [False, False, False, False, False, False,  True],\n",
       "        [False, False, False, False, False, False,  True],\n",
       "        [False, False, False, False,  True,  True, False]]),\n",
       " array([0, 1, 2, 3, 5, 6, 9]))"
      ]
     },
     "execution_count": 21,
     "metadata": {},
     "output_type": "execute_result"
    }
   ],
   "source": [
    "test = np.array([[0, 1, 1, 1, 0, 0, 0],\n",
    "                 [1, 0, 1, 0, 0, 0, 0],\n",
    "                 [1, 1, 0, 0, 0, 0, 0],\n",
    "                 [1, 0, 0, 0, 0, 0, 0],\n",
    "                 [0, 0, 0, 0, 0, 1, 0],\n",
    "                 [0, 0, 0, 0, 1, 0, 1],\n",
    "                 [0, 0, 0, 0, 0, 1, 0]], dtype=bool)\n",
    "\n",
    "test_sub = [True, True, True, True, False, False, False]\n",
    "\n",
    "test_incidient_matrix = np.array([[1, 1, 1, 1],\n",
    "                                  [1, 1, 1, 1],\n",
    "                                  [1, 1, 1, 1],\n",
    "                                  [1, 1, 1, 1]])\n",
    "\n",
    "test_label = np.array([1, 0, 2, 3, 5, 9, 6])\n",
    "\n",
    "tmp_incidient_matrix = np.zeros((len(test), np.sum(test_sub)))\n",
    "tmp_incidient_matrix[test_sub] = test_incidient_matrix\n",
    "incidient_matrix = np.zeros_like(test)\n",
    "incidient_matrix[test_sub] = tmp_incidient_matrix.T\n",
    "incidient_matrix\n",
    "\n",
    "np.unique(incidient_matrix, axis=0)\n",
    "sorting_matrix(test, test_label)"
   ]
  },
  {
   "cell_type": "code",
   "execution_count": 22,
   "id": "6733b2ee",
   "metadata": {
    "scrolled": true
   },
   "outputs": [
    {
     "data": {
      "text/plain": [
       "array([], shape=(0, 5), dtype=int32)"
      ]
     },
     "execution_count": 22,
     "metadata": {},
     "output_type": "execute_result"
    }
   ],
   "source": [
    "test_cluster = np.unique(variable_k_core_graph_clustering(test), axis=0)\n",
    "test_probability_matrix = generate_probability_matrix(test_cluster)\n",
    "test_probability_matrix = np.array([\n",
    "    [1, 0.5, 0.3, 0, 0],\n",
    "    [0.1, 1, 0, 0.4, 0],\n",
    "    [0.5, 0, 1, 0, 0],\n",
    "    [0, 0, 0, 1, 0],\n",
    "    [0, 0, 0, 0, 1]\n",
    "])\n",
    "cluster_from_probability_matrix(test_probability_matrix, 0.6)"
   ]
  },
  {
   "cell_type": "code",
   "execution_count": 23,
   "id": "9ec9cbcd",
   "metadata": {
    "scrolled": true
   },
   "outputs": [
    {
     "ename": "TypeError",
     "evalue": "array() takes from 1 to 2 positional arguments but 7 were given",
     "output_type": "error",
     "traceback": [
      "\u001b[1;31m---------------------------------------------------------------------------\u001b[0m",
      "\u001b[1;31mTypeError\u001b[0m                                 Traceback (most recent call last)",
      "\u001b[1;32m~\\AppData\\Local\\Temp/ipykernel_36120/1437337220.py\u001b[0m in \u001b[0;36m<module>\u001b[1;34m\u001b[0m\n\u001b[0;32m      5\u001b[0m                  \u001b[1;33m[\u001b[0m\u001b[1;36m0\u001b[0m\u001b[1;33m,\u001b[0m \u001b[1;36m0\u001b[0m\u001b[1;33m,\u001b[0m \u001b[1;36m0\u001b[0m\u001b[1;33m,\u001b[0m \u001b[1;36m0\u001b[0m\u001b[1;33m,\u001b[0m \u001b[1;36m1\u001b[0m\u001b[1;33m,\u001b[0m \u001b[1;36m1\u001b[0m\u001b[1;33m,\u001b[0m \u001b[1;36m1\u001b[0m\u001b[1;33m]\u001b[0m\u001b[1;33m,\u001b[0m\u001b[1;33m\u001b[0m\u001b[0m\n\u001b[0;32m      6\u001b[0m                  \u001b[1;33m[\u001b[0m\u001b[1;36m0\u001b[0m\u001b[1;33m,\u001b[0m \u001b[1;36m0\u001b[0m\u001b[1;33m,\u001b[0m \u001b[1;36m0\u001b[0m\u001b[1;33m,\u001b[0m \u001b[1;36m0\u001b[0m\u001b[1;33m,\u001b[0m \u001b[1;36m1\u001b[0m\u001b[1;33m,\u001b[0m \u001b[1;36m1\u001b[0m\u001b[1;33m,\u001b[0m \u001b[1;36m1\u001b[0m\u001b[1;33m]\u001b[0m\u001b[1;33m,\u001b[0m\u001b[1;33m\u001b[0m\u001b[0m\n\u001b[1;32m----> 7\u001b[1;33m                  [0, 0, 0, 0, 1, 1, 1])\n\u001b[0m",
      "\u001b[1;31mTypeError\u001b[0m: array() takes from 1 to 2 positional arguments but 7 were given"
     ]
    }
   ],
   "source": [
    "test1 = np.array([1, 1, 1, 1, 0, 0, 0],\n",
    "                 [1, 1, 1, 1, 0, 0, 0],\n",
    "                 [1, 1, 1, 1, 0, 0, 0],\n",
    "                 [1, 1, 1, 1, 0, 0, 0],\n",
    "                 [0, 0, 0, 0, 1, 1, 1],\n",
    "                 [0, 0, 0, 0, 1, 1, 1],\n",
    "                 [0, 0, 0, 0, 1, 1, 1])"
   ]
  },
  {
   "cell_type": "code",
   "execution_count": null,
   "id": "51051904",
   "metadata": {},
   "outputs": [],
   "source": [
    "extend_matrix(test, test_label, test_true_label)"
   ]
  },
  {
   "cell_type": "code",
   "execution_count": null,
   "id": "fc3d8fb4",
   "metadata": {},
   "outputs": [],
   "source": [
    "def jaccard_coefficient(x, y):\n",
    "    union = np.sum(x | y, axis=-1)\n",
    "    inter = np.sum(x & y, axis=-1)\n",
    "    \n",
    "    if union == 2:\n",
    "        return 1\n",
    "    else:\n",
    "        return inter / (union - 2)    \n",
    "    \n",
    "def jaccard_matrix(X):\n",
    "    X = X.copy()\n",
    "    matrix = np.full((len(X), len(X)), np.inf, dtype=np.float)\n",
    "    for i in range(len(X)):\n",
    "        for j in range(len(X) - i - 1):\n",
    "            j = i + j + 1\n",
    "            \n",
    "            if X[i, j]:\n",
    "                matrix[i, j] = matrix[j, i] = jaccard_coefficient(X[i], X[j])\n",
    "    return matrix"
   ]
  },
  {
   "cell_type": "code",
   "execution_count": 45,
   "id": "81ea82bf",
   "metadata": {},
   "outputs": [
    {
     "data": {
      "image/png": "[encoded data removed]",
      "text/plain": [
       "<Figure size 432x432 with 1 Axes>"
      ]
     },
     "metadata": {
      "needs_background": "light"
     },
     "output_type": "display_data"
    }
   ],
   "source": [
    "import matplotlib.pyplot as plt\n",
    "\n",
    "def plot_3d_scatter(X, figsize=(6, 6), s=2, alpha=1,\n",
    "                    xlim3d=None, ylim3d=None, zlim3d=None):\n",
    "    fig = plt.figure(figsize=figsize)\n",
    "    ax = fig.add_subplot(projection='3d')\n",
    "\n",
    "    ax.scatter(X[:, 0], X[:, 1], X[:, 2], marker='o', s=s, alpha=alpha)\n",
    "\n",
    "    if xlim3d is not None:\n",
    "        ax.set_xlim3d(xlim3d[0], xlim3d[1])\n",
    "    if ylim3d is not None:\n",
    "        ax.set_ylim3d(ylim3d[0], ylim3d[1])\n",
    "    if zlim3d is not None:\n",
    "        ax.set_zlim3d(zlim3d[0], zlim3d[1])\n",
    "        \n",
    "test = np.array([[0, 4, 6],\n",
    "                 [1, 3, 5],\n",
    "                 [2, 2, 4],\n",
    "                 [3, 1, 4],\n",
    "                 [4, 0, 5],\n",
    "                 [3, 2, 3],\n",
    "                 [2, 3, 4],\n",
    "                 [3, 4, 3],\n",
    "                 [4, 3, 2],\n",
    "                 [5, 4, 1],\n",
    "                 [6, 5, 0]])\n",
    "\n",
    "plot_3d_scatter(test)"
   ]
  },
  {
   "cell_type": "code",
   "execution_count": null,
   "id": "40f4d96b",
   "metadata": {},
   "outputs": [],
   "source": []
  }
 ],
 "metadata": {
  "kernelspec": {
   "display_name": "Python 3 (ipykernel)",
   "language": "python",
   "name": "python3"
  },
  "language_info": {
   "codemirror_mode": {
    "name": "ipython",
    "version": 3
   },
   "file_extension": ".py",
   "mimetype": "text/x-python",
   "name": "python",
   "nbconvert_exporter": "python",
   "pygments_lexer": "ipython3",
   "version": "3.7.0"
  }
 },
 "nbformat": 4,
 "nbformat_minor": 5
}
